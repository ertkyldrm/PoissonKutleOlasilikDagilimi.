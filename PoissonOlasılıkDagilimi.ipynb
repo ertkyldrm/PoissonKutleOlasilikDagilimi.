{
  "nbformat": 4,
  "nbformat_minor": 0,
  "metadata": {
    "colab": {
      "name": "Untitled1.ipynb",
      "version": "0.3.2",
      "provenance": []
    },
    "kernelspec": {
      "name": "python3",
      "display_name": "Python 3"
    }
  },
  "cells": [
    {
      "cell_type": "markdown",
      "metadata": {
        "id": "AclJWKubDyOR",
        "colab_type": "text"
      },
      "source": [
        "Soru : Bir restorana bir saatte ortalama 25 müşteri geliyor. Bu restorana bir saatte 35 müşteri gelme olasılığı nedir?"
      ]
    },
    {
      "cell_type": "markdown",
      "metadata": {
        "id": "dEGv1DqzEBwm",
        "colab_type": "text"
      },
      "source": [
        "Çözüm :"
      ]
    },
    {
      "cell_type": "markdown",
      "metadata": {
        "id": "P5BLtmMSEWFx",
        "colab_type": "text"
      },
      "source": [
        "Poisson Dağılımı bir Lambda parametresi ile ifade edilir ve olasılık kütle fonksiyonu aşağıdaki gibidir:\n",
        "\n",
        "\n"
      ]
    },
    {
      "cell_type": "markdown",
      "metadata": {
        "id": "zQPzrt8kFABF",
        "colab_type": "text"
      },
      "source": [
        " ![](https://cdn-images-1.medium.com/max/1600/0*43Fd-53ZfSCIVyBv.png)"
      ]
    },
    {
      "cell_type": "markdown",
      "metadata": {
        "id": "tgA0Q4WgGNzc",
        "colab_type": "text"
      },
      "source": [
        "SciPy kütüphanesi bize bu fonksiyonu sağlıyor."
      ]
    },
    {
      "cell_type": "code",
      "metadata": {
        "id": "oeAsevAFGT8u",
        "colab_type": "code",
        "colab": {}
      },
      "source": [
        "from scipy.stats import poisson\n",
        "import numpy as np\n",
        "import matplotlib.pyplot as plt\n",
        "\n",
        "p25 = poisson(25)\n",
        "k = 35\n",
        "result = p25.pmf(k) # cevabi elde ettik\n",
        "# 0.0113\n",
        "# Gorsellestirmeler\n",
        "n = 50\n",
        "x = np.linspace(0,n,n+1) \n",
        "pmf25 = np.array([p25.pmf(i) for i in x])\n",
        "plt.plot(x, pmf25, 'r')\n",
        "plt.scatter([k],[result],c=\"b\")\n",
        "plt.title(\"Poisson Olasilik Kutle Fonksiyonu\")\n",
        "plt.legend([\"Poisson(25)\",\"Poisson(25)(35)\"])\n",
        "plt.savefig(\"pmf.png\")"
      ],
      "execution_count": 0,
      "outputs": []
    }
  ]
}